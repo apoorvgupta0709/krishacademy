{
 "cells": [
  {
   "cell_type": "code",
   "execution_count": 1,
   "id": "8ec1203f",
   "metadata": {},
   "outputs": [],
   "source": [
    "import operator\n",
    "from langgraph.graph import StateGraph,END\n",
    "from typing import TypedDict, Annotated, Sequence\n",
    "from langchain_core.messages import BaseMessage\n",
    "from IPython.display import Image, display\n",
    "from pydantic import BaseModel , Field\n",
    "from langchain.output_parsers import PydanticOutputParser\n",
    "from langchain_core.output_parsers import StrOutputParser\n",
    "from langchain_google_genai import ChatGoogleGenerativeAI\n",
    "from langchain_openai import ChatOpenAI\n",
    "from langchain_core.prompts import ChatPromptTemplate, PromptTemplate\n",
    "from langchain_core.runnables import RunnablePassthrough\n",
    "from langchain_community.document_loaders import PyPDFLoader\n",
    "from langchain_huggingface import HuggingFaceEmbeddings\n",
    "from langchain_community.vectorstores import Chroma\n",
    "from langchain.text_splitter import RecursiveCharacterTextSplitter\n",
    "from langchain_community.tools.tavily_search import TavilySearchResults\n"
   ]
  },
  {
   "cell_type": "code",
   "execution_count": 2,
   "id": "c2621cde",
   "metadata": {},
   "outputs": [],
   "source": [
    "import os\n",
    "from dotenv import load_dotenv\n",
    "load_dotenv()\n",
    "\n",
    "os.environ[\"GOOGLE_API_KEY\"] = os.getenv(\"GOOGLE_API_KEY1\")\n",
    "os.environ[\"OPENAI_API_KEY\"] = os.getenv(\"OPENAI_API_KEY\")\n",
    "TAVILY_API_KEY=os.getenv(\"TAVILY_API_KEY\")"
   ]
  },
  {
   "cell_type": "markdown",
   "id": "d39869fc",
   "metadata": {},
   "source": [
    "# RAG Configuration"
   ]
  },
  {
   "cell_type": "code",
   "execution_count": 3,
   "id": "488baae6",
   "metadata": {},
   "outputs": [
    {
     "name": "stdout",
     "output_type": "stream",
     "text": [
      "550\n"
     ]
    }
   ],
   "source": [
    "# Load the PDF\n",
    "loader=PyPDFLoader(\"report.pdf\")\n",
    "docs=loader.load()\n",
    "\n",
    "# print pypdf docs length\n",
    "print(len(docs))"
   ]
  },
  {
   "cell_type": "code",
   "execution_count": 4,
   "id": "9043608b",
   "metadata": {},
   "outputs": [
    {
     "name": "stdout",
     "output_type": "stream",
     "text": [
      "2213\n",
      "2213\n"
     ]
    }
   ],
   "source": [
    "# Initialise Recusrsive Charater Text Splitter\n",
    "text_splitter=RecursiveCharacterTextSplitter(\n",
    "    chunk_size=1000,\n",
    "    chunk_overlap=100\n",
    ")\n",
    "\n",
    "# Split Documents\n",
    "new_docs=text_splitter.split_documents(documents=docs)\n",
    "print(len(new_docs))\n",
    "\n",
    "# Collecting all Pagecontent from new_docs\n",
    "doc_string=[doc.page_content for doc in new_docs]\n",
    "print(len(doc_string))"
   ]
  },
  {
   "cell_type": "code",
   "execution_count": 5,
   "id": "0534a4cc",
   "metadata": {},
   "outputs": [
    {
     "name": "stderr",
     "output_type": "stream",
     "text": [
      "/Users/apoorvgupta/miniforge3/envs/agenticai2/lib/python3.11/site-packages/tqdm/auto.py:21: TqdmWarning: IProgress not found. Please update jupyter and ipywidgets. See https://ipywidgets.readthedocs.io/en/stable/user_install.html\n",
      "  from .autonotebook import tqdm as notebook_tqdm\n"
     ]
    }
   ],
   "source": [
    "#Configure the embeddings\n",
    "embeddings = HuggingFaceEmbeddings(model_name=\"BAAI/bge-small-en\")\n",
    "\n",
    "# Configure Chroma DB\n",
    "db=Chroma.from_documents(new_docs,embeddings)"
   ]
  },
  {
   "cell_type": "markdown",
   "id": "39fb0552",
   "metadata": {},
   "source": [
    "# Output Parser"
   ]
  },
  {
   "cell_type": "code",
   "execution_count": 7,
   "id": "8fa30350",
   "metadata": {},
   "outputs": [
    {
     "data": {
      "text/plain": [
       "'The output should be formatted as a JSON instance that conforms to the JSON schema below.\\n\\nAs an example, for the schema {\"properties\": {\"foo\": {\"title\": \"Foo\", \"description\": \"a list of strings\", \"type\": \"array\", \"items\": {\"type\": \"string\"}}}, \"required\": [\"foo\"]}\\nthe object {\"foo\": [\"bar\", \"baz\"]} is a well-formatted instance of the schema. The object {\"properties\": {\"foo\": [\"bar\", \"baz\"]}} is not well-formatted.\\n\\nHere is the output schema:\\n```\\n{\"properties\": {\"validation\": {\"description\": \"validation for clasifier\", \"title\": \"Validation\", \"type\": \"string\"}, \"Reasoning\": {\"description\": \"Reasoning behind topic selection\", \"title\": \"Reasoning\", \"type\": \"string\"}}, \"required\": [\"validation\", \"Reasoning\"]}\\n```'"
      ]
     },
     "execution_count": 7,
     "metadata": {},
     "output_type": "execute_result"
    }
   ],
   "source": [
    "# parser for Supervisor and Classifier \n",
    "class TopicSelectionParser(BaseModel):\n",
    "    validation:str=Field(description=\"validation for clasifier\")\n",
    "    Reasoning:str=Field(description='Reasoning behind topic selection')\n",
    "\n",
    "parser=PydanticOutputParser(pydantic_object=TopicSelectionParser)\n",
    "\n",
    "parser.get_format_instructions()"
   ]
  },
  {
   "cell_type": "markdown",
   "id": "9eca2f3a",
   "metadata": {},
   "source": [
    "# LLM"
   ]
  },
  {
   "cell_type": "code",
   "execution_count": null,
   "id": "0bb40e33",
   "metadata": {},
   "outputs": [
    {
     "name": "stdout",
     "output_type": "stream",
     "text": [
      "Hi there! How can I help you today?\n"
     ]
    }
   ],
   "source": [
    "#Google Gemini\n",
    "model=ChatGoogleGenerativeAI(model='gemini-1.5-flash')\n",
    "output=model.invoke(\"hi\")\n",
    "print(output.content)"
   ]
  },
  {
   "cell_type": "code",
   "execution_count": 315,
   "id": "1454e6f3",
   "metadata": {},
   "outputs": [],
   "source": [
    "# OpenAI\n",
    "model = ChatOpenAI(\n",
    "    model=\"gpt-4o\",\n",
    "    temperature=0,\n",
    "    max_tokens=None,\n",
    "    timeout=None,\n",
    "    max_retries=2,\n",
    "    # api_key=\"...\",  # if you prefer to pass api key in directly instaed of using env vars\n",
    "    # base_url=\"...\",\n",
    "    # organization=\"...\",\n",
    "    # other params...\n",
    ")"
   ]
  },
  {
   "cell_type": "markdown",
   "id": "198142eb",
   "metadata": {},
   "source": [
    "# Add Node Definitions"
   ]
  },
  {
   "cell_type": "code",
   "execution_count": 316,
   "id": "032e19cc",
   "metadata": {},
   "outputs": [],
   "source": [
    "# Define the Agent State Class\n",
    "class AgentState(TypedDict):\n",
    "    messages: Annotated[Sequence[BaseMessage], operator.add]"
   ]
  },
  {
   "cell_type": "code",
   "execution_count": 317,
   "id": "52abc9a4",
   "metadata": {},
   "outputs": [],
   "source": [
    "retriever=db.as_retriever(search_kwargs={\"k\": 10})"
   ]
  },
  {
   "cell_type": "code",
   "execution_count": 318,
   "id": "2d43bae4",
   "metadata": {},
   "outputs": [],
   "source": [
    "# format docs for Vector Store DB\n",
    "def format_docs(docs):\n",
    "    return \"\\n\\n\".join(doc.page_content for doc in docs)"
   ]
  },
  {
   "cell_type": "code",
   "execution_count": 319,
   "id": "cfbf1e96",
   "metadata": {},
   "outputs": [],
   "source": [
    "def Supervisor(state : AgentState):\n",
    "    print(\"\\n---------------------------------> Supervisor ------------------------------------------->\")\n",
    "\n",
    "    messages=state[\"messages\"]\n",
    "    \n",
    "    print(\"Message\" , messages)\n",
    "    \n",
    "    template=\"\"\"\n",
    "    Your task is to classify the given user query into one of the following categories: [RAG, WebSearch, LLM]. You have to check messages.At start your ouput should be RAG. If RAG is already done in messages choose websearch. If both are done output LLM. Only respond with the category name and nothing else.\n",
    "\n",
    "    messages : {messages}\n",
    "    \n",
    "    {format_instructions}\n",
    "    \"\"\"\n",
    "    \n",
    "    prompt= PromptTemplate(\n",
    "        template=template,\n",
    "        input_variable=[\"messages\"],\n",
    "        partial_variables={\"format_instructions\": parser.get_format_instructions()}\n",
    ")\n",
    "\n",
    "\n",
    "    chain= prompt | model | parser\n",
    "\n",
    "    response = chain.invoke({\"messages\":messages})\n",
    "\n",
    "    \n",
    "    print(\"Parsed response:\", response)\n",
    "    \n",
    "    return {\"messages\": [response.validation]}\n",
    "\n",
    "def router_for_supervisor(state:AgentState):\n",
    "    print(\"--------------------------------------------> ROUTER for Supervisor ------------------------->\")\n",
    "    \n",
    "    last_message=state[\"messages\"][-1]\n",
    "    print(\"last_message:\", last_message)\n",
    "    \n",
    "    if \"rag\" in last_message.lower():\n",
    "        return \"RAG Call\"\n",
    "    elif \"websearch\" in last_message.lower():\n",
    "        return \"WebSearch Call\"\n",
    "    else:\n",
    "        return \"LLM Call\"\n",
    "\n",
    "def WebSearchTool(state : AgentState):\n",
    "    print(\"----------------------------------------------> Web Search Tool Call --------------------------->\")\n",
    "\n",
    "    question = state[\"messages\"][0]\n",
    "\n",
    "    tool=TavilySearchResults(tavily_api_key=TAVILY_API_KEY)\n",
    "    result = tool.invoke({\"query\" : state[\"messages\"][0]})\n",
    "\n",
    "    a = \"\\n\\n\".join([r['content'] for r in result])\n",
    "\n",
    "    template=\"\"\"\n",
    "    Your task is to extract the answer for the question from the context.\n",
    "    \n",
    "    Only respond with the answer and if you don't find the correct answer say i Don't know.\n",
    "\n",
    "    question : {question}\n",
    "    context : {context} \n",
    "\n",
    "    \"\"\"\n",
    "    \n",
    "    prompt= PromptTemplate(\n",
    "        template=template,\n",
    "        input_variable=[\"question\", \"context\"],\n",
    "        #partial_variables={\"format_instructions\": parser.get_format_instructions()}\n",
    "    )\n",
    "\n",
    "\n",
    "    chain= prompt | model# | parser\n",
    "\n",
    "    response = chain.invoke({\"question\":question, \"context\" : a})\n",
    "\n",
    "    print(f\"\\n {question} is : {response.content}\")\n",
    "\n",
    "    return  {\"messages\": [response.content]}\n",
    "\n",
    "def RAG(state : AgentState):\n",
    "    print(\"----------------------------------------------> RAG Call ------------------------------------------->\")\n",
    "    \n",
    "    question = state[\"messages\"][0]\n",
    "    \n",
    "    prompt=PromptTemplate(\n",
    "        template=\"\"\"You are an assistant for question-answering tasks. Use the following pieces of retrieved context to answer the question. If you don't know the answer, just say that you don't know. Use three sentences maximum and keep the answer concise.\\nQuestion: {question} \\nContext: {context} \\nAnswer:\"\"\",\n",
    "        \n",
    "        input_variables=['context', 'question']\n",
    "    )\n",
    "    \n",
    "    rag_chain = (\n",
    "        {\"context\": retriever | format_docs, \"question\": RunnablePassthrough()}\n",
    "        | prompt\n",
    "        | model\n",
    "        | StrOutputParser()\n",
    "    )\n",
    "    result = rag_chain.invoke(question)\n",
    "\n",
    "    print(\"rag call result after rag_chain.invoke\", result)\n",
    "    \n",
    "    return  {\"messages\": [result]}\n",
    "\n",
    "def LLM(state : AgentState):\n",
    "\n",
    "    print(\"-------------------------------------------> LLM Call -------------------------------------------------->\")\n",
    "\n",
    "    question = state[\"messages\"][0]\n",
    "    template=\"\"\"\n",
    "    Your task is to answer the question given by user. Only respond if you know the answer, else say I don't Know.\n",
    "\n",
    "    User query: {question}\n",
    "    {format_instructions}\n",
    "    \"\"\"\n",
    "    \n",
    "    prompt= PromptTemplate(\n",
    "        template=template,\n",
    "        input_variable=[\"question\"],\n",
    "        partial_variables={\"format_instructions\": parser.get_format_instructions()}\n",
    "    )\n",
    "    \n",
    "    \n",
    "    chain= prompt | model | parser\n",
    "    \n",
    "    response = chain.invoke({\"question\":question})\n",
    "    \n",
    "    print(\"Parsed response:\", response)\n",
    "    \n",
    "    return {\"messages\": [response]}\n",
    "    pass\n",
    "\n",
    "def Classifier(state:AgentState):\n",
    "    print(\"-------------------------------------------> Classifier ------------------------------------------------>\")\n",
    "    \n",
    "    question=state[\"messages\"][0]\n",
    "    last_message = state[\"messages\"][-1]\n",
    "    \n",
    "    print(\"Question\",question)\n",
    "    print(\"Last Message\",last_message)\n",
    "\n",
    "    \n",
    "    template=\"\"\"\n",
    "    Your task is to classify the given user query into one of the following categories: [Supervisor, END]. You have to compare the question with last_message and check if it is a valid answer for the question. If the last_message satisfies the question answer END else output Supervisor. \n",
    "    \n",
    "    Only respond with the category name and nothing else.\n",
    "\n",
    "    question : {question}\n",
    "    last_message : {last_message} \n",
    "    {format_instructions}\n",
    "    \"\"\"\n",
    "    \n",
    "    prompt= PromptTemplate(\n",
    "        template=template,\n",
    "        input_variable=[\"question\", \"last_message\"],\n",
    "        partial_variables={\"format_instructions\": parser.get_format_instructions()}\n",
    ")\n",
    "\n",
    "\n",
    "    chain= prompt | model | parser\n",
    "\n",
    "    response = chain.invoke({\"question\":question, \"last_message\" : last_message})\n",
    "\n",
    "    \n",
    "    print(\"Parsed response:\", response)\n",
    "    \n",
    "    return {\"messages\": [response.validation]}\n",
    "\n",
    "def router_for_classifier(state:AgentState):\n",
    "    print(\"--------------------------------------------------> ROUTER for classifier ------------------------------------>\")\n",
    "    \n",
    "    last_message=state[\"messages\"][-1]\n",
    "    print(\"last_message:\", last_message)\n",
    "    \n",
    "    if \"supervisor\" in last_message.lower():\n",
    "        return \"Supervisor Call\"\n",
    "    else:\n",
    "        return \"END Call\"\n",
    "\n",
    "def end_node(state : AgentState):\n",
    "    print(\"-------------------------------------------------> END --------------------------------------------------------->\")\n",
    "    return state"
   ]
  },
  {
   "cell_type": "markdown",
   "id": "84e5c868",
   "metadata": {},
   "source": [
    "# Add Nodes"
   ]
  },
  {
   "cell_type": "code",
   "execution_count": 320,
   "id": "f3677dcc",
   "metadata": {},
   "outputs": [
    {
     "data": {
      "text/plain": [
       "<langgraph.graph.state.StateGraph at 0x178ef6050>"
      ]
     },
     "execution_count": 320,
     "metadata": {},
     "output_type": "execute_result"
    }
   ],
   "source": [
    "workflow=StateGraph(AgentState)\n",
    "\n",
    "workflow.add_node(\"Supervisor\",Supervisor)\n",
    "workflow.add_node(\"WebSearch\",WebSearchTool)\n",
    "workflow.add_node(\"RAG\",RAG)\n",
    "workflow.add_node(\"LLM\",LLM)\n",
    "workflow.add_node(\"Classifier\",Classifier)\n",
    "workflow.add_node(\"END\", end_node)"
   ]
  },
  {
   "cell_type": "markdown",
   "id": "0db741ec",
   "metadata": {},
   "source": [
    "# Add Edges"
   ]
  },
  {
   "cell_type": "code",
   "execution_count": 321,
   "id": "6271010a",
   "metadata": {},
   "outputs": [
    {
     "data": {
      "text/plain": [
       "<langgraph.graph.state.StateGraph at 0x178ef6050>"
      ]
     },
     "execution_count": 321,
     "metadata": {},
     "output_type": "execute_result"
    }
   ],
   "source": [
    "workflow.set_entry_point(\"Supervisor\")\n",
    "workflow.add_conditional_edges(\n",
    "    \"Supervisor\",\n",
    "    router_for_supervisor,\n",
    "    {\n",
    "        \"RAG Call\": \"RAG\",\n",
    "        \"WebSearch Call\": \"WebSearch\",\n",
    "        \"LLM Call\": \"LLM\",\n",
    "    }\n",
    ")\n",
    "workflow.add_edge(\"RAG\", \"Classifier\")\n",
    "workflow.add_edge(\"WebSearch\", \"Classifier\")\n",
    "workflow.add_edge(\"LLM\", \"Classifier\")\n",
    "workflow.add_conditional_edges(\n",
    "    \"Classifier\",\n",
    "    router_for_classifier,\n",
    "    {\n",
    "        \"Supervisor Call\": \"Supervisor\",\n",
    "        \"END Call\": \"END\",\n",
    "  \n",
    "    }\n",
    ")\n",
    "#workflow.add_edge(\"Classifier\",END)\n",
    "workflow.set_finish_point(\"END\")"
   ]
  },
  {
   "cell_type": "code",
   "execution_count": 322,
   "id": "05570941",
   "metadata": {},
   "outputs": [],
   "source": [
    "app=workflow.compile()"
   ]
  },
  {
   "cell_type": "code",
   "execution_count": 323,
   "id": "861af7a8",
   "metadata": {},
   "outputs": [
    {
     "data": {
      "text/plain": [
       "Graph(nodes={'__start__': Node(id='__start__', name='__start__', data=RunnablePassthrough(), metadata=None), 'Supervisor': Node(id='Supervisor', name='Supervisor', data=Supervisor(tags=None, recurse=True, explode_args=False, func_accepts_config=False, func_accepts={}), metadata=None), 'WebSearch': Node(id='WebSearch', name='WebSearch', data=WebSearch(tags=None, recurse=True, explode_args=False, func_accepts_config=False, func_accepts={}), metadata=None), 'RAG': Node(id='RAG', name='RAG', data=RAG(tags=None, recurse=True, explode_args=False, func_accepts_config=False, func_accepts={}), metadata=None), 'LLM': Node(id='LLM', name='LLM', data=LLM(tags=None, recurse=True, explode_args=False, func_accepts_config=False, func_accepts={}), metadata=None), 'Classifier': Node(id='Classifier', name='Classifier', data=Classifier(tags=None, recurse=True, explode_args=False, func_accepts_config=False, func_accepts={}), metadata=None), 'END': Node(id='END', name='END', data=END(tags=None, recurse=True, explode_args=False, func_accepts_config=False, func_accepts={}), metadata=None), '__end__': Node(id='__end__', name='__end__', data=None, metadata=None)}, edges=[Edge(source='Classifier', target='END', data='END Call', conditional=True), Edge(source='Classifier', target='Supervisor', data='Supervisor Call', conditional=True), Edge(source='LLM', target='Classifier', data=None, conditional=False), Edge(source='RAG', target='Classifier', data=None, conditional=False), Edge(source='Supervisor', target='LLM', data='LLM Call', conditional=True), Edge(source='Supervisor', target='RAG', data='RAG Call', conditional=True), Edge(source='Supervisor', target='WebSearch', data='WebSearch Call', conditional=True), Edge(source='WebSearch', target='Classifier', data=None, conditional=False), Edge(source='__start__', target='Supervisor', data=None, conditional=False), Edge(source='END', target='__end__', data=None, conditional=False)])"
      ]
     },
     "execution_count": 323,
     "metadata": {},
     "output_type": "execute_result"
    }
   ],
   "source": [
    "app.get_graph()"
   ]
  },
  {
   "cell_type": "code",
   "execution_count": 324,
   "id": "5e1e6151",
   "metadata": {},
   "outputs": [
    {
     "data": {
      "image/png": "[encoded data removed]",
      "text/plain": [
       "<IPython.core.display.Image object>"
      ]
     },
     "metadata": {},
     "output_type": "display_data"
    }
   ],
   "source": [
    "display(Image(app.get_graph().draw_mermaid_png()))"
   ]
  },
  {
   "cell_type": "code",
   "execution_count": 325,
   "id": "e62ae9fc",
   "metadata": {},
   "outputs": [
    {
     "name": "stdout",
     "output_type": "stream",
     "text": [
      "\n",
      "---------------------------------> Supervisor ------------------------------------------->\n",
      "Message ['Tata Steel Strength']\n",
      "Parsed response: validation='RAG' Reasoning=\"The query 'Tata Steel Strength' is a factual query that can be addressed using Retrieval-Augmented Generation (RAG) to provide information from a knowledge base or database. Since RAG is the initial step, it is chosen as the category.\"\n",
      "--------------------------------------------> ROUTER for Supervisor ------------------------->\n",
      "last_message: RAG\n",
      "----------------------------------------------> RAG Call ------------------------------------------->\n",
      "rag call result after rag_chain.invoke Tata Steel has developed a range of high-strength products, including ERW pipes with guarantees on impact toughness and resistance to hydrogen-induced cracking, and high-strength ERW tubes STK500 and STK540 for the Ahmedabad-Mumbai Bullet Train project. They have also introduced Dual Phase steels with UTS > 590 MPa and Interstitial Free steels with UTS > 440 MPa for automotive applications. Additionally, Tata Steel has engineered high-strength, high-ductility rebars and became the first Indian steelmaker to develop hydrogen-compliant API X65 H grade steel and pipes.\n",
      "-------------------------------------------> Classifier ------------------------------------------------>\n",
      "Question Tata Steel Strength\n",
      "Last Message Tata Steel has developed a range of high-strength products, including ERW pipes with guarantees on impact toughness and resistance to hydrogen-induced cracking, and high-strength ERW tubes STK500 and STK540 for the Ahmedabad-Mumbai Bullet Train project. They have also introduced Dual Phase steels with UTS > 590 MPa and Interstitial Free steels with UTS > 440 MPa for automotive applications. Additionally, Tata Steel has engineered high-strength, high-ductility rebars and became the first Indian steelmaker to develop hydrogen-compliant API X65 H grade steel and pipes.\n",
      "Parsed response: validation='END' Reasoning=\"The last_message provides detailed information about the strength of various Tata Steel products, including high-strength ERW pipes, tubes, and rebars, as well as specific steel grades with high tensile strength. This directly addresses the query about Tata Steel's strength.\"\n",
      "--------------------------------------------------> ROUTER for classifier ------------------------------------>\n",
      "last_message: END\n",
      "-------------------------------------------------> END --------------------------------------------------------->\n"
     ]
    },
    {
     "data": {
      "text/plain": [
       "{'messages': ['Tata Steel Strength',\n",
       "  'RAG',\n",
       "  'Tata Steel has developed a range of high-strength products, including ERW pipes with guarantees on impact toughness and resistance to hydrogen-induced cracking, and high-strength ERW tubes STK500 and STK540 for the Ahmedabad-Mumbai Bullet Train project. They have also introduced Dual Phase steels with UTS > 590 MPa and Interstitial Free steels with UTS > 440 MPa for automotive applications. Additionally, Tata Steel has engineered high-strength, high-ductility rebars and became the first Indian steelmaker to develop hydrogen-compliant API X65 H grade steel and pipes.',\n",
       "  'END',\n",
       "  'Tata Steel Strength',\n",
       "  'RAG',\n",
       "  'Tata Steel has developed a range of high-strength products, including ERW pipes with guarantees on impact toughness and resistance to hydrogen-induced cracking, and high-strength ERW tubes STK500 and STK540 for the Ahmedabad-Mumbai Bullet Train project. They have also introduced Dual Phase steels with UTS > 590 MPa and Interstitial Free steels with UTS > 440 MPa for automotive applications. Additionally, Tata Steel has engineered high-strength, high-ductility rebars and became the first Indian steelmaker to develop hydrogen-compliant API X65 H grade steel and pipes.',\n",
       "  'END']}"
      ]
     },
     "execution_count": 325,
     "metadata": {},
     "output_type": "execute_result"
    }
   ],
   "source": [
    "app.invoke({\"messages\" : [\"Tata Steel Strength\"]})"
   ]
  },
  {
   "cell_type": "code",
   "execution_count": 194,
   "id": "845dbf78",
   "metadata": {},
   "outputs": [],
   "source": [
    "question = \"What is the most watched cartoon in India?\"\n",
    "last_message = \"The profit after tax for Tata Steel Group in the fiscal year 2024-25 was ₹3,173.78 crore.\"\n",
    "\n"
   ]
  },
  {
   "cell_type": "code",
   "execution_count": 195,
   "id": "46d27e7e",
   "metadata": {},
   "outputs": [],
   "source": [
    "def WebSearchTool(question, last_message):\n",
    "    print(\"-> Web Search Tool Call ->\")\n",
    "    tool=TavilySearchResults(tavily_api_key=TAVILY_API_KEY)\n",
    "    result = tool.invoke({\"query\" : question})\n",
    "    print(result)\n",
    "    return  {\"messages\": [result]}"
   ]
  },
  {
   "cell_type": "code",
   "execution_count": 196,
   "id": "b3afa95d",
   "metadata": {},
   "outputs": [
    {
     "name": "stdout",
     "output_type": "stream",
     "text": [
      "Question : gdp of USA\n",
      "last message : 16 Trillion\n",
      "Parsed response: validation='END' Reasoning=\"The last message '16 Trillion' is a valid answer to the question 'gdp of USA' as it provides a numerical value that could represent the GDP of the USA.\"\n"
     ]
    }
   ],
   "source": [
    "question=\"gdp of USA\"\n",
    "last_message = \"16 Trillion\"\n",
    "\n",
    "print(\"Question :\",question)\n",
    "print(\"last message :\",last_message)\n",
    "\n",
    "\n",
    "template=\"\"\"\n",
    "Your task is to classify the given user query into one of the following categories: [END,Supervisor]. You have to compare the question with last_message and check if it is a valid answer for the question \n",
    "Only respond with the category name and nothing else.\n",
    "\n",
    "question : {question}\n",
    "last message : {last_message} \n",
    "{format_instructions}\n",
    "\"\"\"\n",
    "\n",
    "prompt= PromptTemplate(\n",
    "    template=template,\n",
    "    input_variable=[\"question\", \"last_message\"],\n",
    "    partial_variables={\"format_instructions\": parser.get_format_instructions()}\n",
    ")\n",
    "\n",
    "\n",
    "chain= prompt | model | parser\n",
    "\n",
    "response = chain.invoke({\"question\":question, \"last_message\" : last_message})\n",
    "\n",
    "print(\"Parsed response:\", response)"
   ]
  },
  {
   "cell_type": "code",
   "execution_count": 297,
   "id": "20310c7b",
   "metadata": {},
   "outputs": [
    {
     "name": "stdout",
     "output_type": "stream",
     "text": [
      "75 Tata Steel Nederland Technology BV EUR  0.41  376.19  1.97  67.41  -    -    1.86  67.41 \n",
      "76 Tata Steel Nederland Tubes BV EUR  (0.08)  (76.87)  0.29  10.08  -    -    0.28  10.08 \n",
      "77 Tata Steel Netherlands Holdings B.V. EUR  66.00  60,174.26  (66.17)  (2,263.40)  -    -    (62.30)  (2,263.40)\n",
      "78 Tata Steel Norway Byggsystemer A/S NOK  0.14  130.92  0.12  4.06  -    -    0.11  4.06 \n",
      "79 Tata Steel UK Consulting Limited GBP  (0.01)  (7.15)  -    -    -    -    -    -   \n",
      "80 Tata Steel UK Limited GBP  (8.36)  (7,618.17)  (154.26)  (5,276.34)  14,076.67  29,880.54  677.28  24,604.20 \n",
      "81 Tata Steel USA Inc. USD  0.09  86.60  0.00  0.04  -    -    0.00  0.04 \n",
      "82 The Newport And South Wales Tube Company Limited GBP  0.36  326.68  -    -    -    -    -    -   \n",
      "83 Thomas Processing Company USD  0.14  128.16  (0.44)  (15.18)  -    -    (0.42)  (15.18)\n",
      "84 Thomas Steel Strip Corp. USD  (0.05)  (47.23)  (0.89)  (30.31)  247.78  525.97  13.64  495.66\n",
      "\n",
      "(12) Tata Korf Engineering Services Ltd. India 100.00 100.00\n",
      "(13) Tata Steel Advanced Materials Limited (formerly Tata Steel \n",
      "Odisha Limited)\n",
      "India 100.00 100.00\n",
      "(14) Tata Steel Downstream Products Limited India 100.00 100.00\n",
      "(15) Tata Steel Foundation India 100.00 100.00\n",
      "(16) Tata Steel Support Services Limited (formerly Bhushan Steel \n",
      "(Orissa) Limited)\n",
      "India 100.00 100.00\n",
      "(17) Tata Steel Technical Services Limited (formerly Bhushan Steel \n",
      "Madhya Bharat Limited)\n",
      "India 100.00 100.00\n",
      "(18) Tata Steel Utilities and Infrastructure Services Limited India 100.00 100.00\n",
      "(19) Tayo Rolls Limited India 54.91 54.91\n",
      "(b) Associate companies\n",
      "(1) Bhushan Capital & Credit Services Private Limited India 42.58 42.58\n",
      "(2) Jawahar Credit & Holdings Private Limited India 39.65 39.65\n",
      "(3) Kalinga Aquatics Ltd. India 30.00 30.00\n",
      "(4) Kumardhubi Fireclay and Silica Works Ltd. India 27.78 27.78\n",
      "(5) Kumardhubi Metal Casting and Engineering Ltd. India 49.31 49.31\n",
      "(6) Malusha Travels Pvt. Ltd. India 33.23 33.23\n",
      "\n",
      "60 Tata Steel International (Czech Republic) S.R.O CZK  0.01  12.42  0.21  7.08  -    -    0.19  7.08 \n",
      "61 Tata Steel International (France) SAS EUR  0.05  44.20  0.17  5.71  -    -    0.16  5.71 \n",
      "62 Tata Steel International (Germany) GmbH EUR  0.02  14.92  (0.01)  (0.22)  5.20  11.04  0.30  10.82 \n",
      "63 Tata Steel International (South America) Representações LTDA USD  0.00  3.17  0.01  0.19  -    -    0.01  0.19 \n",
      "64 Tata Steel International (Italia) SRL EUR  0.04  34.23  0.22  7.46  -    -    0.21  7.46 \n",
      "65 Tata Steel International (Middle East) FZE AED  0.13  118.10  0.75  25.58  -    -    0.70  25.58 \n",
      "66 Tata Steel International (Nigeria) Limited NGN  -    -    -    -    -    -    -    -   \n",
      "67 Tata Steel International (Poland) sp Zoo PLN  0.03  25.79  0.19  6.51  -    -    0.18  6.51 \n",
      "68 Tata Steel International (Sweden) AB SEK  0.05  42.74  0.37  12.80  -    -    0.35  12.80 \n",
      "69 Tata Steel International Iberica SA EUR  0.03  26.17  0.64  21.79  -    -    0.60  21.79\n",
      "\n",
      "FINANCIAL RATIOS\n",
      "Tata Steel Standalone Tata Steel Group\n",
      "2024-25 2023-24 2024-25 2023-24\n",
      "1. EBITDA/Turnover 21.29% 22.11% 11.81% 10.21%\n",
      "2. PBET/Turnover 14.81% 16.31% 4.24% 2.91%\n",
      "3. Return on average capital employed 13.34% 15.11% 9.82% 8.13%\n",
      "4. Return on average equity 10.43% 11.18% 3.45% (4.97%)\n",
      "5. Asset turnover 73.06% 77.82% 80.01% 85.78%\n",
      "6. Inventory turnover (in days)  67  67  80  84 \n",
      "7. Debtors turnover (in days)  4  5  10  12 \n",
      "8. Gross block to net block  1.40  1.38  1.65  1.62 \n",
      "9. Net debt to equity  0.44  0.27  0.90  0.78 \n",
      "10. Current ratio  0.69  0.81  0.90  0.87 \n",
      "11. Interest service coverage ratio  9.94  10.33  3.12  2.47 \n",
      "12. Net worth per share (₹)  98.97  110.58  70.37  71.06 \n",
      "13. Basic earnings per share (₹)  11.19  12.55  2.74  (3.62) \n",
      "14. Dividend payout 32% 29% 141%  NA \n",
      "15. P/E ratio  13.78  12.42  56.29  NA \n",
      "1. EBITDA/Turnover\n",
      "  (EBITDA: Profit before tax +/(-) Exceptional items + Net \n",
      "finance charges + Depreciation and amortisation - Share\n",
      "\n",
      "This Report covers the performance \n",
      "of Tata Steel Limited and its \n",
      "subsidiaries and associates  \n",
      "(including joint ventures) for \n",
      "FY2024-25. Comparative figures \n",
      "for FY 2023-24 have been restated, \n",
      "as applicable, to include data for 3 \n",
      "subsidiaries namely Angul Energy \n",
      "Limited (AEL),  Bhubaneshwar Power \n",
      "Private Limited (BPPL) and The Indian \n",
      "Steel & Wire Products Limited (ISWP), \n",
      "which merged into Tata Steel Limited \n",
      "during FY2024-25.\n",
      "Approach to materiality\n",
      "This report focuses on material issues, \n",
      "i.e., factors that have the potential\n",
      "to significantly affect Tata Steel’s \n",
      "ability to create value in the short, \n",
      "medium, and long-term and which \n",
      "are of most interest to investors and \n",
      "other stakeholders. Material issues \n",
      "are gathered from multiple channels \n",
      "and engagement forums across the \n",
      "organisation and external stakeholders. \n",
      "In FY2022-23, Tata Steel updated its ESG \n",
      "material issues and incorporated them \n",
      "in its long-term plans.\n",
      "Forward-looking statements\n",
      "\n",
      "FINANCIAL HIGHLIGHTS\n",
      "(I crore)\n",
      "Tata Steel Standalone Tata Steel Group\n",
      "2024-25 2023-24 2024-25 2023-24\n",
      "Revenue from operations  1,32,516.66  1,40,932.65  2,18,542.51  2,29,170.78 \n",
      "Profit/Loss before tax  18,718.84  19,504.71  8,412.87  (1,147.04)\n",
      "Profit/Loss after tax  13,969.70  15,661.85  3,173.78  (4,909.61) \n",
      "Dividends  4,494.07  4,414.00  4,489.87  4,409.79 \n",
      "Retained earnings  1,09,729.39  1,00,380.17  33,698.53  34,815.73 \n",
      "Capital employed  1,64,172.78  1,65,073.09  1,58,961.63  1,58,151.67 \n",
      "Net worth  1,23,543.94  1,38,041.53  87,770.44  88,623.82 \n",
      "Borrowings (including lease liabilities)  63,223.39  43,836.83  94,801.05  87,082.12 \n",
      "Ratio Ratio\n",
      "Net Debt to Equity 0.44 0.27  0.90 0.78\n",
      "L L\n",
      "Net worth per share as at year end  98.97  110.58  70.37 71.06\n",
      "Earnings per share:\n",
      "Basic  11.19  12.55  2.74  (3.62) \n",
      "Diluted  11.19 12.54  2.74  (3.62) \n",
      "Dividend per Ordinary Share  3.60  3.60  3.60  3.60 \n",
      "Shareholders (Numbers)  60,25,709  47,17,442 - -\n",
      "\n",
      "NOTES\n",
      "forming part of the standalone financial statements\n",
      "1. Company Information\n",
      "  Tata Steel Limited (“the Company”) is a public limited \n",
      "Co mpany incorporated in India with its registered office \n",
      "in Bombay House 24, Homi Modi Street Fort, Mumbai - \n",
      "400 001, Maharashtra, India. The Company is listed on \n",
      "the BSE Limited (BSE) and the National Stock Exchange \n",
      "of India Limited (NSE).\n",
      "  The C ompany has presence across the entire value chain \n",
      "of steel manufacturing from mining and processing iron \n",
      "ore and coal to producing and distributing finished \n",
      "products. The Company offers a broad range of steel \n",
      "products including a portfolio of high value added \n",
      "downstream products such as hot rolled, cold rolled, \n",
      "coated steel, rebars, wire rods, tubes and wires.\n",
      "  The f unctional and presentation currency of the Company \n",
      "is Indian Rupee (“ I”) which is the currency of the primary \n",
      "economic environment in which the Company operates \n",
      "and all the values are rounded off to the nearest two\n",
      "\n",
      "created significant pricing pressures. Meanwhile, the UK \n",
      "and Netherlands businesses faced pressure from sluggish \n",
      "steel demand, increased climate compliance expenses, \n",
      "and competition from imports and alternative materials.\n",
      " Mitigation Strategies\n",
      "  To address these issues, the Company has predominantly \n",
      "focused on domestic market in India by enhancing its \n",
      "offerings and play in automotive, branded and value \n",
      "accretive industrial products.\n",
      " » Automotive Leadership:  Tata Steel has maintained \n",
      "its leadership position in Automotive sector by \n",
      "prioritising high-end products and expanding its \n",
      "presence in new model launches. The Company has \n",
      "commissioned a new Continuous Annealing Line \n",
      "at Kalinganagar in Odisha to further strengthen its \n",
      "presence in Automotive Segment through value \n",
      "added products.\n",
      " » Construction Solutions:  Tata Steel expanded its \n",
      "capacity for ready-to-use reinforcement solutions \n",
      "through a digitally integrated network of 31 service\n",
      "\n",
      "50 Service Centre Maastricht B.V. EUR  0.32  294.01  (0.49)  (16.60)  -    -    (0.46)  (16.60)\n",
      "51 Societe Europeenne De Galvanisation (Segal) Sa EUR  0.20  179.92  0.45  15.48  -    -    0.43  15.48 \n",
      "52 Surahammar Bruks AB SEK  0.05  43.92  (1.42)  (48.74)  8.75  18.58  (0.83)  (30.16)\n",
      "53 Tata Steel Belgium Packaging Steels N.V. EUR  0.13  115.83  0.15  4.98  -    -    0.14  4.98 \n",
      "54 Tata Steel Belgium Services N.V. EUR  0.29  260.57  0.19  6.33  -    -    0.17  6.33 \n",
      "55 Tata Steel France Holdings SAS EUR  0.97  886.70  (0.17)  (5.97)  1.22  2.58  (0.09)  (3.39)\n",
      "56 Tata Steel Germany GmbH EUR  0.89  813.82  (3.53)  (120.86)  6.14  13.03  (2.97)  (107.83)\n",
      "57 Tata Steel IJmuiden BV EUR  27.31  24,898.99  (43.88)  (1,500.81)  (1.41)  (3.00)  (41.40)  (1,503.81)\n",
      "58 Tata Steel International (Americas) Holdings Inc USD  (1.27)  (1,156.05)  (0.51)  (17.48)  -    -    (0.48)  (17.48)\n",
      "59 Tata Steel International (Americas) Inc USD  1.80  1,643.55  3.74  127.81  17.78  37.73  4.56  165.54\n",
      "\n",
      "5 The Siam Industrial Wire Company Ltd. THB  1.03  936.84  0.22  7.36  (0.19)  (0.40)  0.19  6.96 \n",
      "6 TSN Wires Co., Ltd. THB  (0.01)  (9.50)  (0.30)  (10.39)  (0.20)  (0.43)  (0.30)  (10.82)\n",
      "7 Tata Steel Europe Limited GBP  91.05  83,013.00  (0.42)  (14.43)  -    -    (0.40)  (14.43)\n",
      "8 Apollo Metals Limited USD  0.01  13.41  (0.35)  (11.81)  18.19  38.62  0.74  26.81 \n",
      "9 C V Benine EUR  0.01  4.57  (0.00)  (0.01)  -    -    (0.00)  (0.01)\n",
      "10 Catnic GmbH EUR  0.12  109.08  0.21  7.31  -    -    0.20  7.31 \n",
      "11 Tata Steel Mexico SA de CV USD  0.00  2.94  0.02  0.82  -    -    0.02  0.82 \n",
      "12 Cogent Power Limited GBP  (0.07)  (64.94)  (0.47)  (16.24)  -    -    (0.45)  (16.24)\n",
      "13 Corbeil Les Rives SCI EUR  0.01  5.44  -    -    -    -    -    -   \n",
      "14 Corby (Northants) & District Water Company Limited GBP  0.01  6.74  -    -    -    -    -    -   \n",
      "15 Corus CNBV Investments GBP  0.00  0.00  -    -    -    -    -    -\n"
     ]
    }
   ],
   "source": [
    "nc = retriever.invoke(question)\n",
    "a = \"\\n\\n\".join(doc.page_content for doc in nc)\n",
    "print(a)"
   ]
  },
  {
   "cell_type": "code",
   "execution_count": 309,
   "id": "144d4f3a",
   "metadata": {},
   "outputs": [],
   "source": [
    "question = \"Tata Steel strength?\"\n",
    "last_message = \"The profit after tax for Tata Steel Group in the fiscal year 2024-25 was ₹3,173.78 crore.\"\n",
    "\n",
    "\n",
    "tool=TavilySearchResults(tavily_api_key=TAVILY_API_KEY)\n",
    "result = tool.invoke({\"query\" : question})\n",
    "\n",
    "a = \"\\n\\n\".join([r['content'] for r in result])"
   ]
  },
  {
   "cell_type": "code",
   "execution_count": 310,
   "id": "04999b50",
   "metadata": {},
   "outputs": [
    {
     "data": {
      "text/plain": [
       "5"
      ]
     },
     "execution_count": 310,
     "metadata": {},
     "output_type": "execute_result"
    }
   ],
   "source": [
    "len(result)"
   ]
  },
  {
   "cell_type": "code",
   "execution_count": 311,
   "id": "7fded99a",
   "metadata": {},
   "outputs": [
    {
     "data": {
      "text/plain": [
       "'The strengths of tata steel are capacity expansion, self sufficiency in raw materials, strong retail and distribution, adequate internl control system, advanced\\n\\n# Tata Steel SWOT Analysis\\n\\nHere is a detailed SWOT analysis of Tata Steel covering *strengths, weaknesses, opportunities and threats*.\\n\\n## Tata Steel Strengths\\n\\nAbove are the strengths in the SWOT Analysis of Tata Steel. The strengths of Tata Steel looks at the key internal factors of its business which gives it competitive advantage in the market and strengthens its position.\\n\\n![](https://www.mbaskool.com/images/category/img74.jpg)\\n\\n![](https://www.mbaskool.com/images/category/img74.jpg) [...] | Tata Steel Overview | |\\n| --- | --- |\\n| Parent Company | **Tata Group** |\\n| Category | Iron & steel |\\n| Sector | [Industrial Products and Chemicals](/swot-analysis/industrial-products-and-chemicals.html) |\\n| Tagline/ Slogan | Values stronger than steel |\\n| USP | The top ten global steel companies with an annual crude steel capacity of over 28 million tonnes per annum |\\n| Tata Steel STP | |\\n| Segmentation | Strip & long Steel products, Iron ore mining, Agricultural implements | [...] **Tata Group**\\n\\nIron & steel\\n\\n[Industrial Products and Chemicals](/swot-analysis/industrial-products-and-chemicals.html)\\n\\nValues stronger than steel\\n\\nThe top ten global steel companies with an annual crude steel capacity of over 28 million tonnes per annum\\n\\nStrip & long Steel products, Iron ore mining, Agricultural implements\\n\\nConstruction, automotive, infrastructure, capital goods\\n\\nThe global steel industry benchmark for value creation and corporate citizenship\\n\\nA company’s strengths are the internal factors that provide it with an advantage in establishing a larger client base and high profitability. Let’s look at how Tata Steel compares to its peers in terms of competitive strength – [...] SWOT Analysis is an overall appearance that is proven and enables a brand like Tata Steel or any other company to mark its business & performance as compared to the competitors as well. The strengths and weaknesses are the internal factors whereas opportunities and threats are the external factors.\\n\\n### 1\\\\. Strengths of Tata Steel [...] *   **Market Position:** [Tata Steel](https://www.capitalmarket.com/Company-Information/Information/About-Company/Tata-Steel-Ltd/566) is one of among foremost important steel manufacturers on the planet and thus the world’s second-most geographically-diversified steel producer. It has a strong presence in Asia-pacific and Europe.\\n\\nThis pivotal expansion from 3 MTPA to 8 MTPA represents a defining moment in our journey, solidifying our leadership in advanced steel\\n\\n86.   **[^](https://en.wikipedia.org/wiki/Tata_Steel#cite_ref-86)**Mishra, Lalatendu (31 December 2024). [\"mjunction to foray into Europe, strength U.S. operations, eyes transactions of $100 billion by 2028\"](https://www.thehindu.com/incoming/mjunction-to-foray-into-europe-strength-us-operations-eyes-transactions-of-100-billion-by-2028/article69047161.ece). _The Hindu_. [ISSN](https://en.wikipedia.org/wiki/ISSN_(identifier) \"ISSN [...] | 21,820[[99]](https://en.wikipedia.org/wiki/Tata_Steel#cite_note-99) | 21,760[[100]](https://en.wikipedia.org/wiki/Tata_Steel#cite_note-100) | 26,640[[101]](https://en.wikipedia.org/wiki/Tata_Steel#cite_note-101) | 27,690[[102]](https://en.wikipedia.org/wiki/Tata_Steel#cite_note-102) | 28,310[[103]](https://en.wikipedia.org/wiki/Tata_Steel#cite_note-103) | 27,610[[104]](https://en.wikipedia.org/wiki/Tata_Steel#cite_note-104) | [...] Formerly known as **Tata Iron and Steel Company Limited** (**TISCO**), Tata Steel was among the top 50 [steel producers](https://en.wikipedia.org/wiki/List_of_steel_producers \"List of steel producers\") between 2022 and 2023,[[4]](https://en.wikipedia.org/wiki/Tata_Steel#cite_note-4) with an annual crude steel capacity of 35 million tons and one of the world\\'s most geographically diversified steel producers, with operations and commercial presence spanning multiple regions.'"
      ]
     },
     "execution_count": 311,
     "metadata": {},
     "output_type": "execute_result"
    }
   ],
   "source": [
    "a"
   ]
  },
  {
   "cell_type": "code",
   "execution_count": 312,
   "id": "96a76680",
   "metadata": {},
   "outputs": [
    {
     "name": "stdout",
     "output_type": "stream",
     "text": [
      "\n",
      " Tata Steel strength? : The strengths of Tata Steel include capacity expansion, self-sufficiency in raw materials, strong retail and distribution, and an adequate internal control system.\n"
     ]
    }
   ],
   "source": [
    "template=\"\"\"\n",
    "    Your task is to extract the answer for the question from the context.\n",
    "    \n",
    "    Only respond with the answer and if you don't find the correct answer say i Don't know.\n",
    "\n",
    "    question : {question}\n",
    "    context : {context} \n",
    "\n",
    "    \"\"\"\n",
    "    \n",
    "prompt= PromptTemplate(\n",
    "        template=template,\n",
    "        input_variable=[\"question\", \"context\"],\n",
    "        #partial_variables={\"format_instructions\": parser.get_format_instructions()}\n",
    "    )\n",
    "\n",
    "\n",
    "chain= prompt | model# | parser\n",
    "\n",
    "response = chain.invoke({\"question\":question, \"context\" : a})\n",
    "\n",
    "print(f\"\\n {question} : {response.content}\")"
   ]
  },
  {
   "cell_type": "code",
   "execution_count": 313,
   "id": "ddd15a5f",
   "metadata": {},
   "outputs": [
    {
     "data": {
      "text/plain": [
       "'The strengths of Tata Steel include capacity expansion, self-sufficiency in raw materials, strong retail and distribution, and an adequate internal control system.'"
      ]
     },
     "execution_count": 313,
     "metadata": {},
     "output_type": "execute_result"
    }
   ],
   "source": [
    "response.content    "
   ]
  },
  {
   "cell_type": "code",
   "execution_count": null,
   "id": "e9d3727a",
   "metadata": {},
   "outputs": [],
   "source": []
  }
 ],
 "metadata": {
  "kernelspec": {
   "display_name": "agenticai2",
   "language": "python",
   "name": "python3"
  },
  "language_info": {
   "codemirror_mode": {
    "name": "ipython",
    "version": 3
   },
   "file_extension": ".py",
   "mimetype": "text/x-python",
   "name": "python",
   "nbconvert_exporter": "python",
   "pygments_lexer": "ipython3",
   "version": "3.11.11"
  }
 },
 "nbformat": 4,
 "nbformat_minor": 5
}
